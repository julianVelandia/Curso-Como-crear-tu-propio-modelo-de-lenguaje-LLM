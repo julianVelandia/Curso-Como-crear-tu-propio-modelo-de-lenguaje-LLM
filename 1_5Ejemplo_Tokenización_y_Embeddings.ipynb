{
  "cells": [
    {
      "cell_type": "markdown",
      "metadata": {
        "id": "view-in-github",
        "colab_type": "text"
      },
      "source": [
        "<a href=\"https://colab.research.google.com/github/julianVelandia/Curso-Como-crear-tu-propio-modelo-de-lenguaje-LLM/blob/master/1_5Ejemplo_Tokenizaci%C3%B3n_y_Embeddings.ipynb\" target=\"_parent\"><img src=\"https://colab.research.google.com/assets/colab-badge.svg\" alt=\"Open In Colab\"/></a>"
      ]
    },
    {
      "cell_type": "markdown",
      "id": "e95bb257",
      "metadata": {
        "id": "e95bb257"
      },
      "source": [
        "# Tokenización básica (espacios y signos)\n",
        "La tokenización divide el texto en unidades llamadas *tokens*. La forma más sencilla es separando por espacios y signos de puntuación."
      ]
    },
    {
      "cell_type": "code",
      "execution_count": null,
      "id": "61ba7b78",
      "metadata": {
        "id": "61ba7b78",
        "colab": {
          "base_uri": "https://localhost:8080/"
        },
        "outputId": "4d28b95e-2cb4-427e-941f-e4280f1ea111"
      },
      "outputs": [
        {
          "output_type": "stream",
          "name": "stdout",
          "text": [
            "['Estoy', 'aprendiendo', 'en', 'EDteam', 'porque', 'en', 'español', 'nadie', 'explica', 'mejor']\n"
          ]
        }
      ],
      "source": [
        "texto = \"Estoy aprendiendo en EDteam porque en español nadie explica mejor\"\n",
        "palabras = texto.split()\n",
        "print(palabras)"
      ]
    },
    {
      "cell_type": "markdown",
      "id": "ad0cdcb8",
      "metadata": {
        "id": "ad0cdcb8"
      },
      "source": [
        "## Byte‑Pair Encoding (BPE)\n",
        "\n",
        "Aprende pares de caracteres frecuentes y los fusiona iterativamente para formar sub‑tokens."
      ]
    },
    {
      "cell_type": "code",
      "execution_count": null,
      "id": "1de5379d",
      "metadata": {
        "colab": {
          "base_uri": "https://localhost:8080/"
        },
        "id": "1de5379d",
        "outputId": "de992ee5-1572-4de7-ea01-1543a2c577ba"
      },
      "outputs": [
        {
          "output_type": "stream",
          "name": "stdout",
          "text": [
            "--- Iteración 0 ---\n",
            "c a m i n a n d o </w>\n",
            "a n d o </w>\n",
            "c a n t a n d o </w>\n",
            "y </w>\n",
            "c a n t a n d o </w>\n",
            "a n d o </w>\n",
            "c a m i n a n d o </w> \n",
            "\n",
            "--- Iteración 1 ---\n",
            "Par más frecuente: ('a', 'n') (8 veces)\n",
            "c a m i n an d o </w>\n",
            "an d o </w>\n",
            "c an t an d o </w>\n",
            "y </w>\n",
            "c an t an d o </w>\n",
            "an d o </w>\n",
            "c a m i n an d o </w> \n",
            "\n",
            "--- Iteración 2 ---\n",
            "Par más frecuente: ('an', 'd') (6 veces)\n",
            "c a m i n and o </w>\n",
            "and o </w>\n",
            "c an t and o </w>\n",
            "y </w>\n",
            "c an t and o </w>\n",
            "and o </w>\n",
            "c a m i n and o </w> \n",
            "\n",
            "--- Iteración 3 ---\n",
            "Par más frecuente: ('and', 'o') (6 veces)\n",
            "c a m i n ando </w>\n",
            "ando </w>\n",
            "c an t ando </w>\n",
            "y </w>\n",
            "c an t ando </w>\n",
            "ando </w>\n",
            "c a m i n ando </w> \n",
            "\n",
            "--- Iteración 4 ---\n",
            "Par más frecuente: ('ando', '</w>') (6 veces)\n",
            "c a m i n ando</w>\n",
            "ando</w>\n",
            "c an t ando</w>\n",
            "y </w>\n",
            "c an t ando</w>\n",
            "ando</w>\n",
            "c a m i n ando</w> \n",
            "\n",
            "--- Iteración 5 ---\n",
            "Par más frecuente: ('c', 'a') (2 veces)\n",
            "ca m i n ando</w>\n",
            "ando</w>\n",
            "can t ando</w>\n",
            "y </w>\n",
            "can t ando</w>\n",
            "ando</w>\n",
            "ca m i n ando</w> \n",
            "\n",
            "--- Iteración 6 ---\n",
            "Par más frecuente: ('ca', 'm') (2 veces)\n",
            "cam i n ando</w>\n",
            "ando</w>\n",
            "can t ando</w>\n",
            "y </w>\n",
            "can t ando</w>\n",
            "ando</w>\n",
            "cam i n ando</w> \n",
            "\n",
            "--- Iteración 7 ---\n",
            "Par más frecuente: ('cam', 'i') (2 veces)\n",
            "cami n ando</w>\n",
            "ando</w>\n",
            "can t ando</w>\n",
            "y </w>\n",
            "can t ando</w>\n",
            "ando</w>\n",
            "cami n ando</w> \n",
            "\n",
            "--- Iteración 8 ---\n",
            "Par más frecuente: ('cami', 'n') (2 veces)\n",
            "camin ando</w>\n",
            "ando</w>\n",
            "can t ando</w>\n",
            "y </w>\n",
            "can t ando</w>\n",
            "ando</w>\n",
            "camin ando</w> \n",
            "\n",
            "--- Iteración 9 ---\n",
            "Par más frecuente: ('camin', 'ando</w>') (2 veces)\n",
            "caminando</w>\n",
            "ando</w>\n",
            "can t ando</w>\n",
            "y </w>\n",
            "can t ando</w>\n",
            "ando</w>\n",
            "caminando</w> \n",
            "\n",
            "--- Iteración 10 ---\n",
            "Par más frecuente: ('can', 't') (2 veces)\n",
            "caminando</w>\n",
            "ando</w>\n",
            "cant ando</w>\n",
            "y </w>\n",
            "cant ando</w>\n",
            "ando</w>\n",
            "caminando</w> \n",
            "\n",
            "--- Iteración 11 ---\n",
            "Par más frecuente: ('cant', 'ando</w>') (2 veces)\n",
            "caminando</w>\n",
            "ando</w>\n",
            "cantando</w>\n",
            "y </w>\n",
            "cantando</w>\n",
            "ando</w>\n",
            "caminando</w> \n",
            "\n",
            "Frecuencias de cada token:\n",
            "caminando</w>: 2\n",
            "ando</w>: 2\n",
            "cantando</w>: 2\n",
            "y: 1\n",
            "</w>: 1\n"
          ]
        }
      ],
      "source": [
        "from collections import Counter\n",
        "import re\n",
        "\n",
        "def get_stats(corpus):\n",
        "    '''Cuenta la frecuencia de cada par de símbolos consecutivos en el corpus'''\n",
        "    pairs = Counter()\n",
        "    for word in corpus:\n",
        "        symbols = word.split()\n",
        "        for i in range(len(symbols) - 1):\n",
        "            pair = (symbols[i], symbols[i + 1])\n",
        "            pairs[pair] += 1\n",
        "    #print(pairs)\n",
        "    return pairs\n",
        "\n",
        "def merge_vocab(pair, corpus):\n",
        "    '''Fusiona el par más frecuente en todo el corpus'''\n",
        "    texto_a_buscar = ' '.join(pair)\n",
        "    texto_reemplazo = ''.join(pair)\n",
        "    nuevo_corpus = []\n",
        "    for palabra in corpus:\n",
        "        nueva_palabra = palabra.replace(texto_a_buscar, texto_reemplazo)\n",
        "        nuevo_corpus.append(nueva_palabra)\n",
        "    return nuevo_corpus\n",
        "\n",
        "def run_bpe_example(iteraciones):\n",
        "    text = \"caminando ando cantando y cantando ando caminando\"\n",
        "    corpus = [' '.join(word) + ' </w>' for word in text.split()]\n",
        "\n",
        "    print(f\"--- Iteración 0 ---\")\n",
        "    print('\\n'.join(corpus), '\\n')\n",
        "\n",
        "    for i in range(iteraciones):\n",
        "        print(f\"--- Iteración {i+1} ---\")\n",
        "        pairs = get_stats(corpus)\n",
        "        if not pairs: break\n",
        "        most_frequent = pairs.most_common(1)[0][0]\n",
        "        print(f\"Par más frecuente: {most_frequent} ({pairs[most_frequent]} veces)\")\n",
        "        corpus = merge_vocab(most_frequent, corpus)\n",
        "        print('\\n'.join(corpus), '\\n')\n",
        "\n",
        "    tokens = ' '.join(corpus).split()\n",
        "    frecuencias = Counter(tokens)\n",
        "    print(\"Frecuencias de cada token:\")\n",
        "    for token, freq in frecuencias.items():\n",
        "        print(f\"{token}: {freq}\")\n",
        "    return tokens\n",
        "\n",
        "\n",
        "tokens = run_bpe_example(11)\n"
      ]
    },
    {
      "cell_type": "markdown",
      "id": "b9afd31d",
      "metadata": {
        "id": "b9afd31d"
      },
      "source": [
        "# Codificación numérica (IDs)"
      ]
    },
    {
      "cell_type": "code",
      "execution_count": null,
      "id": "17dcd7c2",
      "metadata": {
        "id": "17dcd7c2",
        "colab": {
          "base_uri": "https://localhost:8080/"
        },
        "outputId": "14ff9b84-af93-4a22-b823-b4d8113bdf7f"
      },
      "outputs": [
        {
          "output_type": "stream",
          "name": "stdout",
          "text": [
            "{'</w>': 0, 'ando</w>': 1, 'caminando</w>': 2, 'cantando</w>': 3, 'y': 4}\n",
            "[2, 1, 3, 4, 0, 3, 1, 2]\n"
          ]
        }
      ],
      "source": [
        "def encode_tokens(tokens):\n",
        "    vocab = {token: idx for idx, token in enumerate(sorted(set(tokens)))}\n",
        "    encoded = [vocab[token] for token in tokens]\n",
        "    return vocab, encoded\n",
        "\n",
        "\n",
        "vocab, encoded = encode_tokens(tokens)\n",
        "print(vocab)\n",
        "print(encoded)\n"
      ]
    },
    {
      "cell_type": "markdown",
      "id": "32db6d51",
      "metadata": {
        "id": "32db6d51"
      },
      "source": [
        "# Embeddings"
      ]
    },
    {
      "cell_type": "markdown",
      "source": [
        "Vectores semánticos"
      ],
      "metadata": {
        "id": "Xc6mkSVzebOu"
      },
      "id": "Xc6mkSVzebOu"
    },
    {
      "cell_type": "code",
      "source": [
        "import matplotlib.pyplot as plt\n",
        "from mpl_toolkits.mplot3d import Axes3D\n",
        "import numpy as np\n",
        "\n",
        "v_tigre = np.array([0, 0.3, 3])\n",
        "v_gato = np.array([0.5, 1, 3.3])\n",
        "v_leon = np.array([0.1, 1.3, 3.6])\n",
        "v_humano = np.array([3,3,0])\n",
        "\n",
        "fig = plt.figure()\n",
        "ax = fig.add_subplot(111, projection='3d')\n",
        "\n",
        "ax.quiver(0, 0, 0, v_tigre[0], v_tigre[1], v_tigre[2], length=1, normalize=False)\n",
        "ax.text(v_tigre[0], v_tigre[1], v_tigre[2], 'Tigre')\n",
        "ax.quiver(0, 0, 0, v_gato[0], v_gato[1], v_gato[2], length=1, normalize=False)\n",
        "ax.text(v_gato[0], v_gato[1], v_gato[2], 'Gato')\n",
        "ax.quiver(0, 0, 0, v_leon[0], v_leon[1], v_leon[2], length=1, normalize=False)\n",
        "ax.text(v_leon[0], v_leon[1], v_leon[2], 'León')\n",
        "ax.quiver(0, 0, 0, v_humano[0], v_humano[1], v_humano[2], length=1, normalize=False)\n",
        "ax.text(v_humano[0], v_humano[1], v_humano[2], 'Humano')\n",
        "\n",
        "ax.set_xlim([0, 5])\n",
        "ax.set_ylim([0, 5])\n",
        "ax.set_zlim([0, 5])\n",
        "\n",
        "\n",
        "plt.show()\n"
      ],
      "metadata": {
        "colab": {
          "base_uri": "https://localhost:8080/",
          "height": 420
        },
        "id": "jxjrB52ZOipt",
        "outputId": "9cc734ee-3e7f-4ebe-9a10-d2389e43997c"
      },
      "id": "jxjrB52ZOipt",
      "execution_count": null,
      "outputs": [
        {
          "output_type": "display_data",
          "data": {
            "text/plain": [
              "<Figure size 640x480 with 1 Axes>"
            ],
            "image/png": "[encoded data removed]"
          },
          "metadata": {}
        }
      ]
    },
    {
      "cell_type": "markdown",
      "source": [
        "Matríz de Embedding"
      ],
      "metadata": {
        "id": "3prmLQV2eetu"
      },
      "id": "3prmLQV2eetu"
    },
    {
      "cell_type": "code",
      "source": [
        "import numpy as np\n",
        "\n",
        "def inicializar():\n",
        "    vocab = list(tokens)\n",
        "    vocab_size = len(vocab)\n",
        "    embedding_dim = 8\n",
        "\n",
        "    token_to_index = {token: idx for idx, token in enumerate(vocab)}\n",
        "    embeddings = np.random.randn(vocab_size, embedding_dim)\n",
        "    return vocab, token_to_index, embeddings\n",
        "\n",
        "def get_embedding(token, token_to_index, embeddings):\n",
        "    idx = token_to_index.get(token, None)\n",
        "    if idx is None:\n",
        "        raise ValueError(f\"Token '{token}' no encontrado en el vocabulario\")\n",
        "    return embeddings[idx]\n",
        "\n",
        "def main():\n",
        "    vocab, token_to_index, embeddings = inicializar()\n",
        "\n",
        "    print(vocab)\n",
        "    print(embeddings)\n",
        "    print('Embedding ando</w>: ', get_embedding('ando</w>', token_to_index, embeddings))\n",
        "\n",
        "main()\n"
      ],
      "metadata": {
        "colab": {
          "base_uri": "https://localhost:8080/"
        },
        "id": "PuhzZG5mejeZ",
        "outputId": "5f0b4586-9b9a-4d7b-ed2b-1de20de4e876"
      },
      "id": "PuhzZG5mejeZ",
      "execution_count": null,
      "outputs": [
        {
          "output_type": "stream",
          "name": "stdout",
          "text": [
            "['caminando</w>', 'ando</w>', 'cantando</w>', 'y', '</w>', 'cantando</w>', 'ando</w>', 'caminando</w>']\n",
            "[[-0.8668065   0.63934339 -0.46137434 -0.56776657  1.90298402 -0.55169568\n",
            "  -1.34538367 -0.15546294]\n",
            " [ 1.17304379  1.18137089 -1.17457004 -0.88067415 -1.02584072  0.59229393\n",
            "  -1.32389045 -1.58148283]\n",
            " [-1.69200137  0.45805517 -0.29310744  0.54435437 -0.97335001 -0.40165887\n",
            "  -0.01985544  0.06386646]\n",
            " [ 0.70095347  0.01448065 -0.68809778  0.5580403  -0.46240315 -0.1773788\n",
            "  -2.57486639  1.13861134]\n",
            " [-0.77063499 -0.3586169   0.02032959  0.99951846  0.12639468  0.62978632\n",
            "   0.97687453 -0.29409757]\n",
            " [-1.25012639 -0.73803451  0.72278941  0.64681097 -1.49949715  0.37398255\n",
            "   0.02270092  0.37015308]\n",
            " [ 1.3990046  -0.31444004  0.20980274 -0.48684976  0.30286677 -0.19963682\n",
            "   0.90479848  0.18194202]\n",
            " [-0.78446156  1.3848475  -0.73371456 -1.01492332  0.64234776  0.56954985\n",
            "  -0.85432701  1.90984494]]\n",
            "Embedding ando</w>:  [ 1.3990046  -0.31444004  0.20980274 -0.48684976  0.30286677 -0.19963682\n",
            "  0.90479848  0.18194202]\n"
          ]
        }
      ]
    }
  ],
  "metadata": {
    "colab": {
      "provenance": [],
      "include_colab_link": true
    },
    "language_info": {
      "name": "python"
    },
    "kernelspec": {
      "name": "python3",
      "display_name": "Python 3"
    }
  },
  "nbformat": 4,
  "nbformat_minor": 5
}